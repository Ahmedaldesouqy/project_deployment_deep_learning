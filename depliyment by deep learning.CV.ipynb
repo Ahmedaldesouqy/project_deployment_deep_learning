{
 "cells": [
  {
   "cell_type": "code",
   "execution_count": 29,
   "metadata": {},
   "outputs": [],
   "source": [
    "import tkinter as tk\n",
    "from tkinter import filedialog\n",
    "from PIL import ImageTk, Image\n",
    "import numpy as np\n",
    "import tensorflow as tf"
   ]
  },
  {
   "cell_type": "code",
   "execution_count": 30,
   "metadata": {},
   "outputs": [],
   "source": [
    "model = tf.keras.models.load_model('D:/CV/the_first_project.h5') "
   ]
  },
  {
   "cell_type": "code",
   "execution_count": 31,
   "metadata": {},
   "outputs": [],
   "source": [
    "class_labels = [\n",
    "    'airplane', 'automobile', 'bird', 'cat', 'deer',\n",
    "    'dog', 'frog', 'horse', 'ship', 'truck'\n",
    "]"
   ]
  },
  {
   "cell_type": "code",
   "execution_count": 32,
   "metadata": {},
   "outputs": [],
   "source": [
    "app = tk.Tk()\n",
    "app.title(\"CIFAR-10 Image Classifier\")\n",
    "app.minsize(width=300, height=300)\n",
    "app.maxsize(width=300, height=300)"
   ]
  },
  {
   "cell_type": "code",
   "execution_count": 33,
   "metadata": {},
   "outputs": [],
   "source": [
    "def classify_image():\n",
    "    try:\n",
    "        \n",
    "        file_path = filedialog.askopenfilename()\n",
    "        \n",
    "        if file_path:\n",
    "            \n",
    "            image = Image.open(file_path)\n",
    "            image = image.resize((32, 32))  \n",
    "            image = np.array(image) / 255.0  \n",
    "            image = np.expand_dims(image, axis=0)  \n",
    "            \n",
    "            \n",
    "            predictions = model.predict(image)\n",
    "            \n",
    "            \n",
    "            predicted_class = class_labels[np.argmax(predictions)]\n",
    "            \n",
    "            \n",
    "            result_image = Image.open(file_path)\n",
    "            resized_image = result_image.resize((200, 200))\n",
    "            img = ImageTk.PhotoImage(resized_image)\n",
    "            image_label.configure(image=img)\n",
    "            image_label.image = img  \n",
    "            result_label.configure(text=f\"Predicted Class: {predicted_class}\")\n",
    "            \n",
    "        else:\n",
    "            result_label.configure(text=\"No file selected.\")\n",
    "    except Exception as e:\n",
    "        result_label.configure(text=f\"Error: {str(e)}\")\n"
   ]
  },
  {
   "cell_type": "code",
   "execution_count": 34,
   "metadata": {},
   "outputs": [],
   "source": [
    "classify_button = tk.Button(app, text=\"Classify Image\", command=classify_image)\n",
    "classify_button.pack(pady=10)"
   ]
  },
  {
   "cell_type": "code",
   "execution_count": 35,
   "metadata": {},
   "outputs": [
    {
     "name": "stdout",
     "output_type": "stream",
     "text": [
      "1/1 [==============================] - 0s 285ms/step\n",
      "1/1 [==============================] - 0s 139ms/step\n",
      "1/1 [==============================] - 0s 69ms/step\n"
     ]
    }
   ],
   "source": [
    "# Create labels to display the image and prediction\n",
    "image_label = tk.Label(app)\n",
    "image_label.pack()\n",
    "\n",
    "result_label = tk.Label(app, text=\"\")\n",
    "result_label.pack(pady=10)\n",
    "\n",
    "# Run the GUI application\n",
    "app.mainloop()\n"
   ]
  },
  {
   "cell_type": "markdown",
   "metadata": {},
   "source": []
  }
 ],
 "metadata": {
  "kernelspec": {
   "display_name": "Python 3",
   "language": "python",
   "name": "python3"
  },
  "language_info": {
   "codemirror_mode": {
    "name": "ipython",
    "version": 3
   },
   "file_extension": ".py",
   "mimetype": "text/x-python",
   "name": "python",
   "nbconvert_exporter": "python",
   "pygments_lexer": "ipython3",
   "version": "3.11.4"
  }
 },
 "nbformat": 4,
 "nbformat_minor": 2
}
